{
  "cells": [
    {
      "cell_type": "markdown",
      "metadata": {
        "id": "vWmc_s2ezvU0"
      },
      "source": []
    },
    {
      "cell_type": "code",
      "execution_count": null,
      "metadata": {
        "id": "KPWdo0WFsRrN"
      },
      "outputs": [],
      "source": [
        "!pip install -U layoutparser\n",
        "!pip install 'git+https://github.com/facebookresearch/detectron2.git@v0.4#egg=detectron2'\n",
        "!git clone https://github.com/Layout-Parser/layout-parser.git\n",
        "!pip install layoutparser # Install the base layoutparser library with\n",
        "!pip install \"layoutparser[layoutmodels]\" # Install DL layout model toolkit"
      ]
    },
    {
      "cell_type": "code",
      "execution_count": null,
      "metadata": {
        "colab": {
          "base_uri": "https://localhost:8080/"
        },
        "id": "RvlYkCQ9vFiy",
        "outputId": "93f16a44-7dc4-4839-bf54-1029124152a6"
      },
      "outputs": [
        {
          "name": "stdout",
          "output_type": "stream",
          "text": [
            "\u001b[2K     \u001b[90m━━━━━━━━━━━━━━━━━━━━━━━━━━━━━━━━━━━━━━━━\u001b[0m \u001b[32m8.4/8.4 MB\u001b[0m \u001b[31m25.5 MB/s\u001b[0m eta \u001b[36m0:00:00\u001b[0m\n",
            "\u001b[2K     \u001b[90m━━━━━━━━━━━━━━━━━━━━━━━━━━━━━━━━━━━━━━━━\u001b[0m \u001b[32m196.4/196.4 kB\u001b[0m \u001b[31m26.0 MB/s\u001b[0m eta \u001b[36m0:00:00\u001b[0m\n",
            "\u001b[2K     \u001b[90m━━━━━━━━━━━━━━━━━━━━━━━━━━━━━━━━━━━━━━━━\u001b[0m \u001b[32m4.8/4.8 MB\u001b[0m \u001b[31m65.7 MB/s\u001b[0m eta \u001b[36m0:00:00\u001b[0m\n",
            "\u001b[2K     \u001b[90m━━━━━━━━━━━━━━━━━━━━━━━━━━━━━━━━━━━━━━━━\u001b[0m \u001b[32m82.1/82.1 kB\u001b[0m \u001b[31m11.2 MB/s\u001b[0m eta \u001b[36m0:00:00\u001b[0m\n",
            "\u001b[2K     \u001b[90m━━━━━━━━━━━━━━━━━━━━━━━━━━━━━━━━━━━━━━━━\u001b[0m \u001b[32m62.7/62.7 kB\u001b[0m \u001b[31m8.6 MB/s\u001b[0m eta \u001b[36m0:00:00\u001b[0m\n",
            "\u001b[?25h"
          ]
        }
      ],
      "source": [
        "!pip install -q streamlit"
      ]
    },
    {
      "cell_type": "code",
      "execution_count": null,
      "metadata": {
        "colab": {
          "base_uri": "https://localhost:8080/"
        },
        "id": "an2C3c_0Ooi9",
        "outputId": "41022bb8-d312-4627-e7c7-f31842ff8cd7"
      },
      "outputs": [
        {
          "name": "stdout",
          "output_type": "stream",
          "text": [
            "Requirement already satisfied: pillow in /usr/local/lib/python3.10/dist-packages (9.4.0)\n"
          ]
        }
      ],
      "source": [
        "!pip install pillow"
      ]
    },
    {
      "cell_type": "markdown",
      "metadata": {
        "id": "waCfwniZOow8"
      },
      "source": [
        "## Create a streamlit app example\n"
      ]
    },
    {
      "cell_type": "code",
      "execution_count": null,
      "metadata": {
        "colab": {
          "base_uri": "https://localhost:8080/"
        },
        "id": "KO0PmY7s76AC",
        "outputId": "b490cf12-f493-4f7a-86ba-5b32c8417406"
      },
      "outputs": [
        {
          "name": "stdout",
          "output_type": "stream",
          "text": [
            "Requirement already satisfied: numpy in /usr/local/lib/python3.10/dist-packages (1.23.5)\n"
          ]
        }
      ],
      "source": [
        "!pip install numpy"
      ]
    },
    {
      "cell_type": "code",
      "execution_count": null,
      "metadata": {
        "colab": {
          "base_uri": "https://localhost:8080/"
        },
        "id": "meJ36PefNftd",
        "outputId": "c6e71cc9-ee24-490f-ad5f-129c80bb580d"
      },
      "outputs": [
        {
          "name": "stdout",
          "output_type": "stream",
          "text": [
            "Writing app.py\n"
          ]
        }
      ],
      "source": [
        "%%writefile app.py\n",
        "\n",
        "import streamlit as st\n",
        "import layoutparser as lp\n",
        "import cv2\n",
        "from PIL import Image\n",
        "import numpy as np\n",
        "\n",
        "def load_image(image_file):\n",
        "  img = Image.open(image_file)\n",
        "  return img\n",
        "\n",
        "st.session_state['key'] = None\n",
        "\n",
        "\n",
        "st.sidebar.image(\"/content/logo.png\")\n",
        "with st.form(\"my_form\"):\n",
        "  st.title(\"Upload file for Data Extraction\")\n",
        "  upload_file = st.file_uploader(\"\", type=[\"png\",\"jpg\",\"jpeg\"])\n",
        "\n",
        "  submitted = st.form_submit_button(\"Submit for Extraction\")\n",
        "  if submitted:\n",
        "\n",
        "      # Load image using OpenCV\n",
        "    image = cv2.imdecode(np.fromstring(upload_file.read(), np.uint8), 1)\n",
        "\n",
        "    #image = cv2.imread(upload_file)\n",
        "    image = image[..., ::-1]\n",
        "\n",
        "    model = lp.Detectron2LayoutModel('lp://PubLayNet/faster_rcnn_R_50_FPN_3x/config',\n",
        "                                    extra_config=[\"MODEL.ROI_HEADS.SCORE_THRESH_TEST\", 0.8],\n",
        "                                    label_map={0: \"Text\", 1: \"Title\", 2: \"List\", 3:\"Table\", 4:\"Figure\"})\n",
        "\n",
        "    # Detect the layout of the input image\n",
        "    layout = model.detect(image)\n",
        "\n",
        "\n",
        "    # Show the detected layout of the input image\n",
        "    lp.draw_box(image, layout, box_width=3)\n",
        "\n",
        "\n",
        "    text_blocks = lp.Layout([b for b in layout if b.type=='Text'])\n",
        "    figure_blocks = lp.Layout([b for b in layout if b.type=='Figure'])\n",
        "\n",
        "    h, w = image.shape[:2]\n",
        "\n",
        "    left_interval = lp.Interval(0, w/2*1.05, axis='x').put_on_canvas(image)\n",
        "\n",
        "    left_blocks = text_blocks.filter_by(left_interval, center=True)\n",
        "    left_blocks.sort(key = lambda b:b.coordinates[1], inplace=True)\n",
        "    # The b.coordinates[1] corresponds to the y coordinate of the region\n",
        "    # sort based on that can simulate the top-to-bottom reading order\n",
        "    right_blocks = lp.Layout([b for b in text_blocks if b not in left_blocks])\n",
        "    right_blocks.sort(key = lambda b:b.coordinates[1], inplace=True)\n",
        "\n",
        "    # And finally combine the two lists and add the index\n",
        "    text_blocks = lp.Layout([b.set(id = idx) for idx, b in enumerate(left_blocks + right_blocks)])\n",
        "\n",
        "    imagelayout=lp.draw_box(image, text_blocks,\n",
        "                box_width=3,\n",
        "                show_element_id=True)\n",
        "\n",
        "    ocr_agent = lp.TesseractAgent(languages='eng')\n",
        "        # Initialize the tesseract ocr engine. You might need\n",
        "        # to install the OCR components in layoutparser:\n",
        "        # pip install layoutparser[ocr]\n",
        "\n",
        "\n",
        "\n",
        "    for block in text_blocks:\n",
        "        segment_image = (block\n",
        "                          .pad(left=5, right=5, top=5, bottom=5)\n",
        "                          .crop_image(image))\n",
        "            # add padding in each image segment can help\n",
        "            # improve robustness\n",
        "\n",
        "        text = ocr_agent.detect(segment_image)\n",
        "        block.set(text=text, inplace=True)\n",
        "\n",
        "    l=[]\n",
        "    st.success(\"Data Extracted from image: \")\n",
        "    for txt in text_blocks.get_texts():\n",
        "        #st.text(txt)\n",
        "        l.append(txt)\n",
        "\n",
        "\n",
        "    #st.text(l)\n",
        "    ouput_text = \"\\n\".join(l)\n",
        "\n",
        "    file_details = {\"filename\":upload_file.name, \"filetype\":upload_file.type,\n",
        "                              \"filesize\":upload_file.size}\n",
        "    file_details[\"extracted_data\"] = ouput_text\n",
        "    st.header(\"Meta Data\")\n",
        "    st.write(file_details)\n",
        "\n",
        "\n",
        "\n",
        "    col1, col2 = st.sidebar.columns(2)\n",
        "    with col2:\n",
        "      st.sidebar.header(\"Uploaded Image\")\n",
        "      st.sidebar.image(image, use_column_width=True)\n",
        "\n",
        "    with col1:\n",
        "      st.sidebar.header(\"Extracted text\")\n",
        "      st.sidebar.text(ouput_text)\n",
        "\n",
        "    st.session_state['key'] = ouput_text\n",
        "\n",
        "if st.session_state['key'] is not None:\n",
        "  st.download_button('Download', st.session_state['key'])\n",
        "\n",
        "\n"
      ]
    },
    {
      "cell_type": "markdown",
      "metadata": {
        "id": "xZlEJkmSOoxC"
      },
      "source": [
        "## Install localtunnel"
      ]
    },
    {
      "cell_type": "code",
      "execution_count": null,
      "metadata": {
        "colab": {
          "base_uri": "https://localhost:8080/"
        },
        "id": "ZAyqQCQVOoxC",
        "outputId": "dceeddd8-7a57-4474-dbcb-3285405a2c3f"
      },
      "outputs": [
        {
          "name": "stdout",
          "output_type": "stream",
          "text": [
            "\u001b[K\u001b[?25h\u001b[37;40mnpm\u001b[0m \u001b[0m\u001b[30;43mWARN\u001b[0m \u001b[0m\u001b[35msaveError\u001b[0m ENOENT: no such file or directory, open '/content/package.json'\n",
            "\u001b[K\u001b[?25h\u001b[37;40mnpm\u001b[0m \u001b[0m\u001b[34;40mnotice\u001b[0m\u001b[35m\u001b[0m created a lockfile as package-lock.json. You should commit this file.\n",
            "\u001b[0m\u001b[37;40mnpm\u001b[0m \u001b[0m\u001b[30;43mWARN\u001b[0m \u001b[0m\u001b[35menoent\u001b[0m ENOENT: no such file or directory, open '/content/package.json'\n",
            "\u001b[0m\u001b[37;40mnpm\u001b[0m \u001b[0m\u001b[30;43mWARN\u001b[0m\u001b[35m\u001b[0m content No description\n",
            "\u001b[0m\u001b[37;40mnpm\u001b[0m \u001b[0m\u001b[30;43mWARN\u001b[0m\u001b[35m\u001b[0m content No repository field.\n",
            "\u001b[0m\u001b[37;40mnpm\u001b[0m \u001b[0m\u001b[30;43mWARN\u001b[0m\u001b[35m\u001b[0m content No README data\n",
            "\u001b[0m\u001b[37;40mnpm\u001b[0m \u001b[0m\u001b[30;43mWARN\u001b[0m\u001b[35m\u001b[0m content No license field.\n",
            "\u001b[0m\n",
            "+ localtunnel@2.0.2\n",
            "added 22 packages from 22 contributors and audited 22 packages in 2.228s\n",
            "\n",
            "3 packages are looking for funding\n",
            "  run `npm fund` for details\n",
            "\n",
            "found 1 \u001b[93mmoderate\u001b[0m severity vulnerability\n",
            "  run `npm audit fix` to fix them, or `npm audit` for details\n",
            "\u001b[K\u001b[?25h"
          ]
        }
      ],
      "source": [
        "!npm install localtunnel"
      ]
    },
    {
      "cell_type": "markdown",
      "metadata": {
        "id": "kccYE2lkN20y"
      },
      "source": [
        "## Run streamlit in background"
      ]
    },
    {
      "cell_type": "code",
      "execution_count": null,
      "metadata": {
        "colab": {
          "base_uri": "https://localhost:8080/"
        },
        "id": "Zv912rRAN0fs",
        "outputId": "b2266954-b6f5-4478-d88d-d43098d6982b"
      },
      "outputs": [
        {
          "name": "stdout",
          "output_type": "stream",
          "text": [
            "Password/Enpoint IP for localtunnel is: 34.136.69.244\n"
          ]
        }
      ],
      "source": [
        "!streamlit run /content/app.py &>/content/logs.txt &\n",
        "\n",
        "import urllib\n",
        "print(\"Password/Enpoint IP for localtunnel is:\",urllib.request.urlopen('https://ipv4.icanhazip.com').read().decode('utf8').strip(\"\\n\"))"
      ]
    },
    {
      "cell_type": "markdown",
      "metadata": {
        "id": "h_KW9juhOCuH"
      },
      "source": [
        "## Expose the port 8501\n",
        "Then just click in the `url` showed.\n",
        "\n",
        "A `log.txt`file will be created."
      ]
    },
    {
      "cell_type": "code",
      "execution_count": null,
      "metadata": {
        "colab": {
          "background_save": true,
          "base_uri": "https://localhost:8080/"
        },
        "id": "XTGAizLhOIgC",
        "outputId": "77ec0719-7c4a-4dad-bc57-827ae042e1ac"
      },
      "outputs": [
        {
          "name": "stdout",
          "output_type": "stream",
          "text": [
            "\u001b[K\u001b[?25hnpx: installed 22 in 2.653s\n",
            "your url is: https://long-views-act.loca.lt\n"
          ]
        }
      ],
      "source": [
        "!npx localtunnel --port 8501"
      ]
    },
    {
      "cell_type": "markdown",
      "metadata": {
        "id": "GVz-H__pOoxG"
      },
      "source": [
        "[![ko-fi](https://www.ko-fi.com/img/githubbutton_sm.svg)](https://ko-fi.com/Y8Y3VYYE)"
      ]
    },
    {
      "cell_type": "code",
      "execution_count": null,
      "metadata": {
        "id": "P-YuSfmn65gL"
      },
      "outputs": [],
      "source": []
    }
  ],
  "metadata": {
    "accelerator": "GPU",
    "colab": {
      "provenance": []
    },
    "kernelspec": {
      "display_name": "Python 3",
      "name": "python3"
    }
  },
  "nbformat": 4,
  "nbformat_minor": 0
}